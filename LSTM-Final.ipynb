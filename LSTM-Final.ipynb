{
 "cells": [
  {
   "cell_type": "markdown",
   "metadata": {},
   "source": [
    "# Generate Scripts Using LSTM"
   ]
  },
  {
   "cell_type": "markdown",
   "metadata": {},
   "source": [
    "# _______________________________________________________________"
   ]
  },
  {
   "cell_type": "markdown",
   "metadata": {},
   "source": [
    "## 1.0 - Function Implementations"
   ]
  },
  {
   "cell_type": "markdown",
   "metadata": {},
   "source": [
    "#### 1.1 - Import Dependencies"
   ]
  },
  {
   "cell_type": "code",
   "execution_count": 1,
   "metadata": {
    "collapsed": false
   },
   "outputs": [],
   "source": [
    "import numpy as np\n",
    "import matplotlib as plt\n",
    "import pandas as pd\n",
    "import nltk\n",
    "import tensorflow as tf\n",
    "from tensorflow.contrib import seq2seq\n",
    "from collections import Counter\n",
    "import random\n",
    "import csv\n",
    "import seaborn as sns\n",
    "%matplotlib inline"
   ]
  },
  {
   "cell_type": "markdown",
   "metadata": {},
   "source": [
    "#### 1.2 - Data Preprocessing"
   ]
  },
  {
   "cell_type": "code",
   "execution_count": 2,
   "metadata": {
    "collapsed": true
   },
   "outputs": [],
   "source": [
    "puncs = {\n",
    "            '--': '||long_dash||', \n",
    "             ',': '||comma||', \n",
    "             '.': '||period||',\n",
    "             '(': '||left_paren||',\n",
    "             ')': '||right_paren||',\n",
    "             ';': '||semicolon||',\n",
    "             '?': '||question||',\n",
    "            '\\n': '||new_line||',\n",
    "             '\"': '||double_quote||',\n",
    "             '!': '||exclamation||'\n",
    "}"
   ]
  },
  {
   "cell_type": "code",
   "execution_count": 3,
   "metadata": {
    "collapsed": true
   },
   "outputs": [],
   "source": [
    "def preprocess(input_text):\n",
    "    \"\"\"\n",
    "    1. Convert all charatcers to lower case\n",
    "    2. Assign unique tokens to punctuations\n",
    "    :param input_text: Raw script text\n",
    "    :return: Array of preprocessed words\n",
    "    \"\"\"\n",
    "    \n",
    "    new_text = input_text.lower()\n",
    "    \n",
    "    for token, replacement in puncs.items():\n",
    "        new_text = new_text.replace(token, \" \" + replacement + \" \")\n",
    "        \n",
    "    return new_text.split()"
   ]
  },
  {
   "cell_type": "markdown",
   "metadata": {},
   "source": [
    "#### 1.3 - Create Lookup Table"
   ]
  },
  {
   "cell_type": "code",
   "execution_count": 4,
   "metadata": {
    "collapsed": true
   },
   "outputs": [],
   "source": [
    "def to_dicts(text):\n",
    "    \"\"\"\n",
    "    Create dictionaries for index\n",
    "    :param input_text: Array of preprocessed words\n",
    "    :return int2word: Dictionary for index to word look up\n",
    "    :return word2int: Dictionary for word to index look up\n",
    "    \"\"\"\n",
    "    \n",
    "    c = Counter(text)\n",
    "    int2word, word2int = {}, {}\n",
    "    \n",
    "    for i, word in enumerate(c.items()):\n",
    "        \n",
    "        int2word[i] = word[0]\n",
    "        word2int[word[0]] = i\n",
    "        \n",
    "    return int2word, word2int"
   ]
  },
  {
   "cell_type": "markdown",
   "metadata": {},
   "source": [
    "#### 1.4 - Mini Batch Generator "
   ]
  },
  {
   "cell_type": "code",
   "execution_count": 5,
   "metadata": {
    "collapsed": false
   },
   "outputs": [],
   "source": [
    "def get_batches(int_text, batch_size=119, seq_length=20):\n",
    "    \"\"\"\n",
    "    Create dictionaries for index\n",
    "    :param input_text: Array pf preprocessed words\n",
    "    :return int2word: Dictionary for index to word look up\n",
    "    :return word2int: Dictionary for word to index look up\n",
    "    \"\"\"\n",
    "\n",
    "    int_text = int_text[16:]\n",
    "    n_batches = (len(int_text)-1)//(batch_size * seq_length)    \n",
    "    int_text = int_text[:n_batches * batch_size * seq_length + 1]\n",
    "    int_text_sequences = \\\n",
    "            [int_text[i*seq_length:i*seq_length+seq_length] for i in range(0, n_batches * batch_size)]\n",
    "        \n",
    "    int_text = int_text[1:]\n",
    "    int_text_targets = \\\n",
    "            [int_text[i*seq_length:i*seq_length+seq_length] for i in range(0, n_batches * batch_size)]\n",
    "        \n",
    "    output = []\n",
    "    for batch in range(n_batches):\n",
    "        inputs = []\n",
    "        targets = []\n",
    "        for size in range(batch_size):\n",
    "            inputs.append(int_text_sequences[size * n_batches + batch])\n",
    "            targets.append(int_text_targets[size * n_batches + batch])\n",
    "        output.append([inputs, targets])\n",
    "    return np.array(output)"
   ]
  },
  {
   "cell_type": "markdown",
   "metadata": {},
   "source": [
    "#### 1.5 - LSTM Implementation"
   ]
  },
  {
   "cell_type": "code",
   "execution_count": 6,
   "metadata": {
    "collapsed": false
   },
   "outputs": [],
   "source": [
    "def LSTM(int2word, rnn_size=256, embed_dim=300):\n",
    "    \"\"\"\n",
    "    Implementation of LSTM and its training\n",
    "    :param int2word: Look up table for converting index to word\n",
    "    :param rnn_size: Size of each lstm cell\n",
    "    :param embed_dim: Size of the word embedding used before lstm\n",
    "    :return: Network variables used for training and testing\n",
    "    \"\"\"\n",
    "    \n",
    "    # Create Input and Output Placeholders\n",
    "    input_text = tf.placeholder(tf.int32, [None, None], name='input')\n",
    "    targets = tf.placeholder(tf.int32, [None, None], name='targets')\n",
    "\n",
    "    # Create LSTM Cell\n",
    "    lstm = tf.contrib.rnn.BasicLSTMCell(rnn_size)\n",
    "    cell = tf.contrib.rnn.MultiRNNCell([lstm, lstm])\n",
    "    initial_state = cell.zero_state(tf.shape(input_text)[0], tf.float32)\n",
    "    initial_state = tf.identity(initial_state, name= \"initial_state\")\n",
    "\n",
    "    # Create Embedding\n",
    "    inputs = tf.contrib.layers.embed_sequence(input_text, vocab_size=len(int2word), embed_dim=300)\n",
    "\n",
    "    # Pass Data Through Network\n",
    "    outputs, final_state = tf.nn.dynamic_rnn(cell, inputs, dtype=tf.float32)\n",
    "    final_state = tf.identity(final_state, name=\"final_state\")\n",
    "    logits = tf.contrib.layers.fully_connected(outputs, len(int2word), activation_fn=None)\n",
    "    probs = tf.nn.softmax(logits, name='probs')\n",
    "\n",
    "    # Calculate Loss\n",
    "    cost = seq2seq.sequence_loss(logits, targets, \n",
    "                                 tf.ones([tf.shape(input_text)[0], tf.shape(input_text)[1]]))\n",
    "\n",
    "    # Optimize\n",
    "    optimizer = tf.train.AdamOptimizer(0.01)\n",
    "    gradients = optimizer.compute_gradients(cost)\n",
    "    capped_gradients = [(tf.clip_by_value(grad, -1., 1.), var) for grad, var in gradients]\n",
    "    train_op = optimizer.apply_gradients(capped_gradients)\n",
    "    \n",
    "    return input_text, targets, cost, initial_state, final_state, train_op, probs"
   ]
  },
  {
   "cell_type": "markdown",
   "metadata": {},
   "source": [
    "#### 1.6 - Train Model"
   ]
  },
  {
   "cell_type": "code",
   "execution_count": 7,
   "metadata": {
    "collapsed": false
   },
   "outputs": [],
   "source": [
    "def train(sess, input_text, targets, initial_state, final_state, int_text, \n",
    "          batch_size=120, seq_length=20, num_epochs=100):\n",
    "    \"\"\"\n",
    "    Perform network training\n",
    "    :param sess: Session which contains the network\n",
    "    :param batch_size: Size of each batch entering the network\n",
    "    :param seq_length: Length of each sequence entering the network\n",
    "    :param num_epochs: Number of iterations over the training set\n",
    "    :return initial_state: Initial cell state after training network\n",
    "    :return final_state: Final cell state after training the network\n",
    "    \"\"\"\n",
    "    \n",
    "    batches = get_batches(int_text, batch_size, seq_length)\n",
    "    sess.run(tf.global_variables_initializer())\n",
    "    losses = []\n",
    "\n",
    "    print(\"Training \", end=\"\")\n",
    "    for epoch_i in range(num_epochs):\n",
    "        state = sess.run(initial_state, {input_text: batches[0][0]})\n",
    "\n",
    "        for batch_i, (x, y) in enumerate(batches):\n",
    "            feed = {input_text:x, targets:y, initial_state:state}\n",
    "            train_loss, state, _ = sess.run([cost, final_state, train_op], feed)\n",
    "            \n",
    "            # Log costs\n",
    "            if (epoch_i * len(batches) + batch_i) % (show_every_n_batches) == 0:\n",
    "                losses.append(train_loss)\n",
    "    \n",
    "            # Show every <show_every_n_batches> batches\n",
    "            if (epoch_i * len(batches) + batch_i) % (show_every_n_batches*10) == 0:\n",
    "                print(\".\", end=\"\")\n",
    "                #print('Epoch {:>3} Batch {:>4}/{}   train_loss = {:.3f}'.format(\n",
    "                #    epoch_i, batch_i, len(batches), train_loss))\n",
    "\n",
    "    # Save Model\n",
    "    #saver = tf.train.Saver()\n",
    "    #saver.save(sess, './save')\n",
    "    #print('Model Trained and Saved')\n",
    "    \n",
    "    return initial_state, final_state, losses"
   ]
  },
  {
   "cell_type": "markdown",
   "metadata": {},
   "source": [
    "#### 1.7 - Calculate Probable Word From Network Output"
   ]
  },
  {
   "cell_type": "code",
   "execution_count": 8,
   "metadata": {
    "collapsed": true
   },
   "outputs": [],
   "source": [
    "def pick_word(probabilities, int_to_vocab):\n",
    "    \"\"\"\n",
    "    Pick the next word in the generated text\n",
    "    :param probabilities: Probability distribution outputted by network\n",
    "    :param int_to_vocab: Dictionary of word ids as the keys and words as the values\n",
    "    :return: String of the predicted word\n",
    "    \"\"\"\n",
    "    word_int = np.random.choice(len(int_to_vocab), p=probabilities)\n",
    "    return int_to_vocab[word_int]"
   ]
  },
  {
   "cell_type": "markdown",
   "metadata": {},
   "source": [
    "#### 1.8 - Test Model"
   ]
  },
  {
   "cell_type": "code",
   "execution_count": 9,
   "metadata": {
    "collapsed": false
   },
   "outputs": [],
   "source": [
    "def test(sess, input_text, initial_state, final_state, int2word, word2int, seq_length=20, gen_length=200, \n",
    "         start_char='moe_szyslak'):\n",
    "    \"\"\"\n",
    "    Test network by generating text from start_char, and feeding output back into network\n",
    "    :param sess: Session which contains the network\n",
    "    :param seq_length: Length of each sequence entering the network\n",
    "    :param gen_length: Number of words to be generated by the network\n",
    "    :return gen_sentences: Array of words generated by the network\n",
    "    \"\"\"\n",
    "\n",
    "    # Sentences generation setup\n",
    "    gen_sentences = [start_char + ':']\n",
    "    prev_state = sess.run(initial_state, {input_text: np.array([[1]])})\n",
    "\n",
    "    # Generate sentences\n",
    "    for n in range(gen_length):\n",
    "\n",
    "        # Dynamic Input\n",
    "        dyn_input = [[word2int[word] for word in gen_sentences[-seq_length:]]]\n",
    "        dyn_seq_length = len(dyn_input[0])\n",
    "\n",
    "        # Get Prediction\n",
    "        probabilities, prev_state = sess.run(\n",
    "            [probs, final_state],\n",
    "            {input_text: dyn_input, initial_state: prev_state})\n",
    "\n",
    "        pred_word = pick_word(probabilities[0][dyn_seq_length-1], int2word)\n",
    "        gen_sentences.append(pred_word)\n",
    "    return gen_sentences"
   ]
  },
  {
   "cell_type": "markdown",
   "metadata": {},
   "source": [
    "#### 1.9 - Construct Sentences From Network Output"
   ]
  },
  {
   "cell_type": "code",
   "execution_count": 10,
   "metadata": {
    "collapsed": true
   },
   "outputs": [],
   "source": [
    "def print_sentences(gen_sentences):\n",
    "    \"\"\"\n",
    "    Clean and process words generated by network and print them\n",
    "    :param gen_sentences: Array of words generated by the network\n",
    "    \"\"\"\n",
    "    script = \" \".join(gen_sentences)\n",
    "\n",
    "    for replacement, token in puncs.items():\n",
    "        script = script.replace(token, replacement)\n",
    "\n",
    "    script = script.replace(\" .\", \".\")\n",
    "    script = script.replace(\" ,\", \",\")\n",
    "    script = script.replace(\" !\", \"!\")\n",
    "    script = script.replace(\" ?\", \"?\")\n",
    "    script = script.replace(\"( \", \"(\")\n",
    "    script = script.replace(\" )\", \")\")\n",
    "    script = script.replace(' \\n', '\\n')\n",
    "    script = script.replace(\"  \", \" \")\n",
    "    script = script.replace(\" i \", \" I \")\n",
    "    script = script.replace(\"i'm\", \"I'm\")\n",
    "    script = script.replace(\"i'll\", \"I'll\")\n",
    "\n",
    "    for i, line in enumerate(script.split(\"\\n\")):\n",
    "        if i == 0:\n",
    "            print(line)\n",
    "        else:\n",
    "            print(line[1:])"
   ]
  },
  {
   "cell_type": "markdown",
   "metadata": {},
   "source": [
    "# _______________________________________________________"
   ]
  },
  {
   "cell_type": "markdown",
   "metadata": {},
   "source": [
    "## 2.0 - Testing Model On Small Dataset"
   ]
  },
  {
   "cell_type": "markdown",
   "metadata": {},
   "source": [
    "#### 2.1 - Load Small Dataset"
   ]
  },
  {
   "cell_type": "code",
   "execution_count": 11,
   "metadata": {
    "collapsed": true
   },
   "outputs": [],
   "source": [
    "f = open('./data/simpsons/moes_tavern_lines.txt')\n",
    "text = f.read()\n",
    "text = text[81:]"
   ]
  },
  {
   "cell_type": "markdown",
   "metadata": {},
   "source": [
    "#### 2.2 - Display Sample Text From Small Dataset"
   ]
  },
  {
   "cell_type": "code",
   "execution_count": 12,
   "metadata": {
    "collapsed": false
   },
   "outputs": [
    {
     "name": "stdout",
     "output_type": "stream",
     "text": [
      "Moe_Szyslak: (INTO PHONE) Moe's Tavern. Where the elite meet to drink.\n",
      "Bart_Simpson: Eh, yeah, hello, is Mike there? Last name, Rotch.\n"
     ]
    }
   ],
   "source": [
    "print('\\n'.join(text.split(\"\\n\")[:2]))"
   ]
  },
  {
   "cell_type": "markdown",
   "metadata": {},
   "source": [
    "#### 2.3 - Smal Dataset Exploration"
   ]
  },
  {
   "cell_type": "code",
   "execution_count": 13,
   "metadata": {
    "collapsed": false
   },
   "outputs": [
    {
     "data": {
      "text/html": [
       "<div>\n",
       "<table border=\"1\" class=\"dataframe\">\n",
       "  <thead>\n",
       "    <tr style=\"text-align: right;\">\n",
       "      <th></th>\n",
       "      <th>Number of characters</th>\n",
       "      <th>Number of lines</th>\n",
       "      <th>Number of scenes</th>\n",
       "      <th>Number of unique words</th>\n",
       "    </tr>\n",
       "  </thead>\n",
       "  <tbody>\n",
       "    <tr>\n",
       "      <th>0</th>\n",
       "      <td>282</td>\n",
       "      <td>4257</td>\n",
       "      <td>262</td>\n",
       "      <td>11492</td>\n",
       "    </tr>\n",
       "  </tbody>\n",
       "</table>\n",
       "</div>"
      ],
      "text/plain": [
       "   Number of characters  Number of lines  Number of scenes  \\\n",
       "0                   282             4257               262   \n",
       "\n",
       "   Number of unique words  \n",
       "0                   11492  "
      ]
     },
     "execution_count": 13,
     "metadata": {},
     "output_type": "execute_result"
    }
   ],
   "source": [
    "unique_words = len({word: None for word in text.split()})\n",
    "scene_count = len(text.split(\"\\n\\n\"))\n",
    "line_count = len([line for scene in text.split(\"\\n\\n\") for line in scene.split(\"\\n\")])\n",
    "characters = Counter([line.split(\":\")[0] for line in text.split(\"\\n\")])\n",
    "\n",
    "dat = [line_count, scene_count, unique_words, len(characters)]\n",
    "labels = (\"Number of lines\", \"Number of scenes\", \"Number of unique words\", \"Number of characters\")\n",
    "\n",
    "d = {}\n",
    "for name, data in zip(labels, dat):\n",
    "    d[name] = [data]\n",
    "pd.DataFrame(data=d)"
   ]
  },
  {
   "cell_type": "code",
   "execution_count": 14,
   "metadata": {
    "collapsed": false
   },
   "outputs": [
    {
     "data": {
      "image/png": "[encoded data removed]",
      "text/plain": [
       "<matplotlib.figure.Figure at 0x7f49cb208518>"
      ]
     },
     "metadata": {},
     "output_type": "display_data"
    }
   ],
   "source": [
    "c = Counter(characters).most_common(10)\n",
    "sns.set_style(\"whitegrid\")\n",
    "c1 = [i[0] for i in c]\n",
    "c2 = [i[1] for i in c]\n",
    "d = {'Characters': c1, 'Number of lines': c2}\n",
    "df = pd.DataFrame(data=d)\n",
    "ax = sns.barplot(x=\"Number of lines\", y=\"Characters\", data=df)\n",
    "ax.set_title('Most common characters');"
   ]
  },
  {
   "cell_type": "markdown",
   "metadata": {},
   "source": [
    "#### 2.4- Prepare Small Dataset"
   ]
  },
  {
   "cell_type": "code",
   "execution_count": 15,
   "metadata": {
    "collapsed": false
   },
   "outputs": [],
   "source": [
    "processed_text = preprocess(text)\n",
    "int2word, word2int = to_dicts(processed_text)\n",
    "int_text = [word2int[word] for word in processed_text]\n",
    "show_every_n_batches = get_batches(int_text, batch_size=120, seq_length=20).shape[0]"
   ]
  },
  {
   "cell_type": "markdown",
   "metadata": {},
   "source": [
    "#### 2.5 - Train Network On Small Dataset"
   ]
  },
  {
   "cell_type": "code",
   "execution_count": 16,
   "metadata": {
    "collapsed": false
   },
   "outputs": [
    {
     "name": "stdout",
     "output_type": "stream",
     "text": [
      "Training ..........CPU times: user 1min 23s, sys: 7.14 s, total: 1min 30s\n",
      "Wall time: 1min 6s\n"
     ]
    },
    {
     "data": {
      "image/png": "[encoded data removed]",
      "text/plain": [
       "<matplotlib.figure.Figure at 0x7f49c4d50828>"
      ]
     },
     "metadata": {},
     "output_type": "display_data"
    }
   ],
   "source": [
    "inp, out, cost, i_state, f_state, train_op, probs = LSTM(int2word, rnn_size=256, embed_dim=300)\n",
    "sess = tf.Session()\n",
    "%time i_state, f_state, losses = train(sess, inp, out, i_state, f_state, int_text, batch_size=120, \\\n",
    "                                       seq_length=20, num_epochs=100)\n",
    "                                                                \n",
    "sns.set(color_codes=True)\n",
    "ax = sns.regplot(\n",
    "    x=np.array([i for i in range(1,len(losses)+1)]), y=np.array(losses), color=\"g\", fit_reg=False);"
   ]
  },
  {
   "cell_type": "markdown",
   "metadata": {},
   "source": [
    "#### 2.6 - Test Network On Small Dataset"
   ]
  },
  {
   "cell_type": "code",
   "execution_count": 19,
   "metadata": {
    "collapsed": false
   },
   "outputs": [
    {
     "name": "stdout",
     "output_type": "stream",
     "text": [
      "moe_szyslak: sorry, homer.\n",
      "\n",
      "\n",
      "homer_simpson: (toasting) to play... moe?\n",
      "c. _montgomery_burns: we're you come like is his ((camp around guys...\n",
      "homer_simpson: wayne, it's true, but the little well, I think just in around, you little puke...\n",
      "lenny_leonard: hey, what's business and a man, in which...\n",
      "\n",
      "\n",
      "homer_simpson: yes. no one ever remembers. what do you go.\n",
      "moe_szyslak: you want from, you get a few life could really her in springfield rounds.\n",
      "moe_szyslak: what are you just waltz in with a woman to you exactly your bar ain't like... and I'm too all right, and I'll blow you.\n",
      "moe_szyslak: and fausto! looks like you're really kind of every one at of the cash. my dad in the new moe-lennium.\n",
      "moe_szyslak: and (reading) keep be another last.\n",
      "homer_simpson: (sadly) yeah, you were sure, you can help.\n",
      "chief_wiggum: you did. what's my hubub\n"
     ]
    }
   ],
   "source": [
    "gen_sentences = test(sess, inp, i_state, f_state, int2word, word2int, \\\n",
    "                     seq_length=20, gen_length=200, start_char='moe_szyslak')\n",
    "print_sentences(gen_sentences)"
   ]
  },
  {
   "cell_type": "markdown",
   "metadata": {},
   "source": [
    "# _______________________________________________________________"
   ]
  },
  {
   "cell_type": "markdown",
   "metadata": {},
   "source": [
    "## 3.0 - Testing With A Larger Dataset"
   ]
  },
  {
   "cell_type": "markdown",
   "metadata": {},
   "source": [
    "#### 3.1 - Load Large Dataset"
   ]
  },
  {
   "cell_type": "code",
   "execution_count": 16,
   "metadata": {
    "collapsed": false
   },
   "outputs": [],
   "source": [
    "large_data = []\n",
    "characters = []\n",
    "scene_count = 0\n",
    "line_count = 0\n",
    "\n",
    "with open('./data/simpsons.csv', newline='') as csvfile:\n",
    "    data = csv.reader(csvfile, delimiter=',', quotechar='\"')\n",
    "    for i, row in enumerate(data):\n",
    "        if row[5] == 'false':\n",
    "            scene_count += 1\n",
    "        else:\n",
    "            line_count += 1\n",
    "        if i > 0 and len(row) > 9 and row[5] != 'false':\n",
    "            large_data.append(row[8].replace(\" \", \"_\")+\": \"+row[10]+\"\\n\")\n",
    "            characters.append(row[8])"
   ]
  },
  {
   "cell_type": "markdown",
   "metadata": {},
   "source": [
    "#### 3.2 - Large Dataset Exploration"
   ]
  },
  {
   "cell_type": "code",
   "execution_count": 17,
   "metadata": {
    "collapsed": false
   },
   "outputs": [
    {
     "data": {
      "text/html": [
       "<div>\n",
       "<table border=\"1\" class=\"dataframe\">\n",
       "  <thead>\n",
       "    <tr style=\"text-align: right;\">\n",
       "      <th></th>\n",
       "      <th>Number of characters</th>\n",
       "      <th>Number of lines</th>\n",
       "      <th>Number of scenes</th>\n",
       "      <th>Number of unique words</th>\n",
       "    </tr>\n",
       "  </thead>\n",
       "  <tbody>\n",
       "    <tr>\n",
       "      <th>0</th>\n",
       "      <td>6280</td>\n",
       "      <td>132114</td>\n",
       "      <td>26158</td>\n",
       "      <td>54307</td>\n",
       "    </tr>\n",
       "  </tbody>\n",
       "</table>\n",
       "</div>"
      ],
      "text/plain": [
       "   Number of characters  Number of lines  Number of scenes  \\\n",
       "0                  6280           132114             26158   \n",
       "\n",
       "   Number of unique words  \n",
       "0                   54307  "
      ]
     },
     "execution_count": 17,
     "metadata": {},
     "output_type": "execute_result"
    }
   ],
   "source": [
    "large_processed_text = preprocess(\" \".join(large_data))\n",
    "dat = [line_count, scene_count, len(Counter(large_processed_text)), len(Counter(characters))]\n",
    "labels = (\"Number of lines\", \"Number of scenes\", \"Number of unique words\", \"Number of characters\")\n",
    "\n",
    "d = {}\n",
    "for name, data in zip(labels, dat):\n",
    "    d[name] = [data]\n",
    "pd.DataFrame(data=d)"
   ]
  },
  {
   "cell_type": "code",
   "execution_count": 18,
   "metadata": {
    "collapsed": false
   },
   "outputs": [
    {
     "data": {
      "image/png": "[encoded data removed]",
      "text/plain": [
       "<matplotlib.figure.Figure at 0x7fc6a22d1278>"
      ]
     },
     "metadata": {},
     "output_type": "display_data"
    }
   ],
   "source": [
    "c = Counter(characters).most_common(10)\n",
    "sns.set_style(\"whitegrid\")\n",
    "c1 = [i[0] for i in c]\n",
    "c2 = [i[1] for i in c]\n",
    "d = {'Characters': c1, 'Number of lines': c2}\n",
    "df = pd.DataFrame(data=d)\n",
    "ax = sns.barplot(x=\"Number of lines\", y=\"Characters\", data=df)\n",
    "ax.set_title('Most common characters');"
   ]
  },
  {
   "cell_type": "markdown",
   "metadata": {},
   "source": [
    "#### 3.3 - Prepare Large Dataset"
   ]
  },
  {
   "cell_type": "code",
   "execution_count": 19,
   "metadata": {
    "collapsed": false
   },
   "outputs": [],
   "source": [
    "large_int2word, large_word2int = to_dicts(large_processed_text)\n",
    "large_int_text = [large_word2int[word] for word in large_processed_text]\n",
    "show_every_n_batches = get_batches(large_int_text, batch_size=120, seq_length=20).shape[0]"
   ]
  },
  {
   "cell_type": "markdown",
   "metadata": {},
   "source": [
    "#### 3.4 - Train Network On Large Dataset"
   ]
  },
  {
   "cell_type": "code",
   "execution_count": 20,
   "metadata": {
    "collapsed": false
   },
   "outputs": [
    {
     "name": "stdout",
     "output_type": "stream",
     "text": [
      "Training .....CPU times: user 2h 12min 27s, sys: 45min 6s, total: 2h 57min 34s\n",
      "Wall time: 2h 46min 40s\n"
     ]
    },
    {
     "data": {
      "image/png": "[encoded data removed]",
      "text/plain": [
       "<matplotlib.figure.Figure at 0x7fc69ad31fd0>"
      ]
     },
     "metadata": {},
     "output_type": "display_data"
    }
   ],
   "source": [
    "inp, out, cost, i_state, f_state, train_op, probs = LSTM(large_int2word, rnn_size=1024, embed_dim=1200)\n",
    "sess = tf.Session()\n",
    "\n",
    "%time i_state, f_state, losses = train(sess, inp, out, i_state, f_state, large_int_text, \\\n",
    "                                       batch_size=120, seq_length=20, num_epochs=50)\n",
    "\n",
    "sns.set(color_codes=True)\n",
    "ax = sns.regplot(x=np.array([i for i in range(1,len(losses)+1)]), y=np.array(losses), color=\"g\", fit_reg=False);"
   ]
  },
  {
   "cell_type": "markdown",
   "metadata": {},
   "source": [
    "#### 3.5 - Test Network On Large Dataset"
   ]
  },
  {
   "cell_type": "code",
   "execution_count": 21,
   "metadata": {
    "collapsed": false
   },
   "outputs": [
    {
     "name": "stdout",
     "output_type": "stream",
     "text": [
      "moe_szyslak:, for starters, they're having it so smooth would be twenty-first out of the coward.\n",
      "bart_simpson: mom! bart's jive are not gonna wave your job you do weather.\n",
      "homer_simpson: what?!!\n",
      "joe_laboot: sure I'm stayin' here.\n",
      "marge_simpson: could you believe?\n",
      "homer_simpson: all right, son.\n",
      "lisa_simpson: I made him right.\n",
      "kid_demon: wow, we owe you gray! quit, tightenin' the whales, --\n",
      "lisa_simpson: okay, ninja fight!\n",
      "homer_simpson: gig, nyuk, nyung roberts! do not drop to the city fighters! nobody blows taken, right?\n",
      "homer_simpson: it's joan application... and hurled the tv gel.\n",
      "wilbur: yeah. wait, what's an upgrade.\n",
      "marge_simpson: I still sing yourself for these for a digital attitudes...\n",
      "pleasant_female_voice: I mean I seek.\n",
      "homer_simpson: oh, because they're not. he was right after this to what's different from earth?\n",
      "homer_simpson: and in the one good night.\n",
      "bernice_hibbert: well, they do your hopes this kids! we can he\n"
     ]
    }
   ],
   "source": [
    "gen_sentences = test(sess, inp, i_state, f_state, large_int2word, large_word2int, \n",
    "                     seq_length=20, gen_length=200, start_char='moe_szyslak')\n",
    "\n",
    "print_sentences(gen_sentences)"
   ]
  },
  {
   "cell_type": "code",
   "execution_count": null,
   "metadata": {
    "collapsed": true
   },
   "outputs": [],
   "source": []
  }
 ],
 "metadata": {
  "kernelspec": {
   "display_name": "Python 3",
   "language": "python",
   "name": "python3"
  },
  "language_info": {
   "codemirror_mode": {
    "name": "ipython",
    "version": 3
   },
   "file_extension": ".py",
   "mimetype": "text/x-python",
   "name": "python",
   "nbconvert_exporter": "python",
   "pygments_lexer": "ipython3",
   "version": "3.5.2"
  }
 },
 "nbformat": 4,
 "nbformat_minor": 2
}
